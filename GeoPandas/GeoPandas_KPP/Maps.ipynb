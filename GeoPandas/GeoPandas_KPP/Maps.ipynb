{
 "cells": [
  {
   "cell_type": "code",
   "execution_count": 1,
   "id": "eb49bdc5-e568-47fe-bbdc-92fdbf0e2fed",
   "metadata": {},
   "outputs": [],
   "source": [
    "import geopandas as gpd\n",
    "import geodatasets\n",
    "import matplotlib.pyplot as plt"
   ]
  },
  {
   "cell_type": "code",
   "execution_count": 6,
   "id": "cdf7ad28-64ac-4a38-8955-521f196d68b0",
   "metadata": {},
   "outputs": [
    {
     "name": "stdout",
     "output_type": "stream",
     "text": [
      "C:\\Users\\chukw\\PycharmProjects\\GeoPandas\n"
     ]
    }
   ],
   "source": [
    "import os\n",
    "\n",
    "# Get the current working directory\n",
    "print(os.getcwd())"
   ]
  },
  {
   "cell_type": "code",
   "execution_count": 5,
   "id": "0a355432-ff7f-4543-b045-612b5c426a30",
   "metadata": {},
   "outputs": [
    {
     "name": "stderr",
     "output_type": "stream",
     "text": [
      "<>:2: SyntaxWarning: invalid escape sequence '\\c'\n",
      "<>:2: SyntaxWarning: invalid escape sequence '\\c'\n",
      "C:\\Users\\chukw\\AppData\\Local\\Temp\\ipykernel_24088\\1183213370.py:2: SyntaxWarning: invalid escape sequence '\\c'\n",
      "  os.chdir(\"C:\\\\Users\\chukw\\PycharmProjects\\GeoPandas\")\n"
     ]
    }
   ],
   "source": [
    "#Changing the Dir\n",
    "os.chdir(\"C:\\\\Users\\chukw\\PycharmProjects\\GeoPandas\")"
   ]
  },
  {
   "cell_type": "code",
   "execution_count": 7,
   "id": "81d25da3-dbc5-4fc7-a630-3a9277ed678a",
   "metadata": {},
   "outputs": [
    {
     "name": "stdout",
     "output_type": "stream",
     "text": [
      "                                            geometry\n",
      "0  MULTIPOLYGON (((117.70361 4.16341, 117.70361 4...\n",
      "1  MULTIPOLYGON (((117.70361 4.16341, 117.69711 4...\n",
      "2  MULTIPOLYGON (((-69.51009 -17.50659, -69.50611...\n",
      "3  POLYGON ((-69.51009 -17.50659, -69.51009 -17.5...\n",
      "4  MULTIPOLYGON (((-69.51009 -17.50659, -69.63832...\n"
     ]
    },
    {
     "name": "stderr",
     "output_type": "stream",
     "text": [
      "C:\\Users\\chukw\\AppData\\Local\\Programs\\Python\\Python312\\Lib\\site-packages\\pyogrio\\geopandas.py:265: UserWarning: More than one layer found in '10m_cultural': 'admin_0_countries' (default), 'admin_0_countries_arg', 'admin_0_countries_bdg', 'admin_0_countries_bra', 'admin_0_countries_chn', 'admin_0_countries_deu', 'admin_0_countries_egy', 'admin_0_countries_esp', 'admin_0_countries_fra', 'admin_0_countries_gbr', 'admin_0_countries_grc', 'admin_0_countries_idn', 'admin_0_countries_ind', 'admin_0_countries_iso', 'admin_0_countries_isr', 'admin_0_countries_ita', 'admin_0_countries_jpn', 'admin_0_countries_kor', 'admin_0_countries_lakes', 'admin_0_countries_mar', 'admin_0_countries_nep', 'admin_0_countries_nld', 'admin_0_countries_pak', 'admin_0_countries_pol', 'admin_0_countries_prt', 'admin_0_countries_rus', 'admin_0_countries_sau', 'admin_0_countries_tur', 'admin_0_countries_ukr', 'admin_0_countries_vnm', 'admin_0_disputed_areas_scale_rank_minor_islands', 'admin_0_map_subunits', 'admin_0_scale_rank_minor_islands', 'admin_1_states_provinces_lakes', 'admin_2_counties_lakes', 'admin_2_label_points', 'airports', 'antarctic_claims', 'antarctic_claim_limit_lines', 'boundary_lines_disputed_areas', 'boundary_lines_land', 'boundary_lines_map_units', 'boundary_lines_maritime_indicator', 'boundary_lines_maritime_indicator_chn', 'parks_and_protected_lands_area', 'parks_and_protected_lands_line', 'parks_and_protected_lands_point', 'parks_and_protected_lands_scale_rank', 'populated_places', 'populated_places_simple', 'ports', 'railroads', 'railroads_north_america', 'roads', 'roads_north_america', 'time_zones', 'urban_areas', 'urban_areas_landscan'. Specify layer parameter to avoid this warning.\n",
      "  result = read_func(\n"
     ]
    }
   ],
   "source": [
    "import geopandas as gpd\n",
    "\n",
    "# Data\n",
    "world = gpd.read_file('Dataset/world_10m_cultural/10m_cultural')\n",
    "\n",
    "# Display the first few rows of the GeoDataFrame\n",
    "print(world.head())"
   ]
  },
  {
   "cell_type": "code",
   "execution_count": 8,
   "id": "7726bf3d-a5c4-43b5-ba95-5cf4ef7291e4",
   "metadata": {},
   "outputs": [
    {
     "name": "stdout",
     "output_type": "stream",
     "text": [
      "Contents of the 10m_cultural folder:\n",
      "admin_0_countries.shp\n",
      "admin_0_countries.shx\n",
      "admin_0_countries_arg.shp\n",
      "admin_0_countries_arg.shx\n",
      "admin_0_countries_bdg.shp\n",
      "admin_0_countries_bdg.shx\n",
      "admin_0_countries_bra.shp\n",
      "admin_0_countries_bra.shx\n",
      "admin_0_countries_chn.shp\n",
      "admin_0_countries_chn.shx\n",
      "admin_0_countries_deu.shp\n",
      "admin_0_countries_deu.shx\n",
      "admin_0_countries_egy.shp\n",
      "admin_0_countries_egy.shx\n",
      "admin_0_countries_esp.shp\n",
      "admin_0_countries_esp.shx\n",
      "admin_0_countries_fra.shp\n",
      "admin_0_countries_fra.shx\n",
      "admin_0_countries_gbr.shp\n",
      "admin_0_countries_gbr.shx\n",
      "admin_0_countries_grc.shp\n",
      "admin_0_countries_grc.shx\n",
      "admin_0_countries_idn.shp\n",
      "admin_0_countries_idn.shx\n",
      "admin_0_countries_ind.shp\n",
      "admin_0_countries_ind.shx\n",
      "admin_0_countries_iso.shp\n",
      "admin_0_countries_iso.shx\n",
      "admin_0_countries_isr.shp\n",
      "admin_0_countries_isr.shx\n",
      "admin_0_countries_ita.shp\n",
      "admin_0_countries_ita.shx\n",
      "admin_0_countries_jpn.shp\n",
      "admin_0_countries_jpn.shx\n",
      "admin_0_countries_kor.shp\n",
      "admin_0_countries_kor.shx\n",
      "admin_0_countries_lakes.shp\n",
      "admin_0_countries_lakes.shx\n",
      "admin_0_countries_mar.shp\n",
      "admin_0_countries_mar.shx\n",
      "admin_0_countries_nep.shp\n",
      "admin_0_countries_nep.shx\n",
      "admin_0_countries_nld.shp\n",
      "admin_0_countries_nld.shx\n",
      "admin_0_countries_pak.shp\n",
      "admin_0_countries_pak.shx\n",
      "admin_0_countries_pol.shp\n",
      "admin_0_countries_pol.shx\n",
      "admin_0_countries_prt.shp\n",
      "admin_0_countries_prt.shx\n",
      "admin_0_countries_rus.shp\n",
      "admin_0_countries_rus.shx\n",
      "admin_0_countries_sau.shp\n",
      "admin_0_countries_sau.shx\n",
      "admin_0_countries_swe.shx\n",
      "admin_0_countries_tur.shp\n",
      "admin_0_countries_tur.shx\n",
      "admin_0_countries_ukr.shp\n",
      "admin_0_countries_ukr.shx\n",
      "admin_0_countries_vnm.shp\n",
      "admin_0_countries_vnm.shx\n",
      "admin_0_disputed_areas_scale_rank_minor_islands.shp\n",
      "admin_0_disputed_areas_scale_rank_minor_islands.shx\n",
      "admin_0_map_subunits.shp\n",
      "admin_0_map_subunits.shx\n",
      "admin_0_scale_rank_minor_islands.shp\n",
      "admin_0_scale_rank_minor_islands.shx\n",
      "admin_0_sovereignty.shx\n",
      "admin_1_states_provinces_lakes.shp\n",
      "admin_1_states_provinces_lakes.shx\n",
      "admin_2_counties.shx\n",
      "admin_2_counties_lakes.shp\n",
      "admin_2_counties_lakes.shx\n",
      "admin_2_label_points.shp\n",
      "admin_2_label_points.shx\n",
      "admin_2_label_points_details.shx\n",
      "airports.shp\n",
      "airports.shx\n",
      "antarctic_claims.shp\n",
      "antarctic_claims.shx\n",
      "antarctic_claim_limit_lines.shp\n",
      "antarctic_claim_limit_lines.shx\n",
      "boundary_lines_disputed_areas.shp\n",
      "boundary_lines_disputed_areas.shx\n",
      "boundary_lines_land.shp\n",
      "boundary_lines_land.shx\n",
      "boundary_lines_map_units.shp\n",
      "boundary_lines_map_units.shx\n",
      "boundary_lines_maritime_indicator.shp\n",
      "boundary_lines_maritime_indicator.shx\n",
      "boundary_lines_maritime_indicator_chn.shp\n",
      "boundary_lines_maritime_indicator_chn.shx\n",
      "parks_and_protected_lands_area.shp\n",
      "parks_and_protected_lands_area.shx\n",
      "parks_and_protected_lands_line.shp\n",
      "parks_and_protected_lands_line.shx\n",
      "parks_and_protected_lands_point.shp\n",
      "parks_and_protected_lands_point.shx\n",
      "parks_and_protected_lands_scale_rank.shp\n",
      "parks_and_protected_lands_scale_rank.shx\n",
      "populated_places.shp\n",
      "populated_places.shx\n",
      "populated_places_simple.shp\n",
      "populated_places_simple.shx\n",
      "ports.shp\n",
      "ports.shx\n",
      "railroads.shp\n",
      "railroads.shx\n",
      "railroads_north_america.shp\n",
      "railroads_north_america.shx\n",
      "roads.shp\n",
      "roads.shx\n",
      "roads_north_america.shp\n",
      "roads_north_america.shx\n",
      "time_zones.shp\n",
      "time_zones.shx\n",
      "urban_areas.shp\n",
      "urban_areas.shx\n",
      "urban_areas_landscan.shp\n",
      "urban_areas_landscan.shx\n"
     ]
    }
   ],
   "source": [
    "import os\n",
    "import geopandas as gpd\n",
    "\n",
    "# Get a list of files and directories in the '10m_cultural' folder\n",
    "folder_contents = os.listdir('Dataset/world_10m_cultural/10m_cultural')\n",
    "\n",
    "print(\"Contents of the 10m_cultural folder:\")\n",
    "for item in folder_contents:\n",
    "    print(item)\n"
   ]
  },
  {
   "cell_type": "code",
   "execution_count": 9,
   "id": "3fb5d3e0-aa46-4aa1-b53a-c78b4580f946",
   "metadata": {},
   "outputs": [
    {
     "name": "stdout",
     "output_type": "stream",
     "text": [
      "['admin_0_countries.shp', 'admin_0_countries.shx', 'admin_0_countries_arg.shp', 'admin_0_countries_arg.shx', 'admin_0_countries_bdg.shp', 'admin_0_countries_bdg.shx', 'admin_0_countries_bra.shp', 'admin_0_countries_bra.shx', 'admin_0_countries_chn.shp', 'admin_0_countries_chn.shx', 'admin_0_countries_deu.shp', 'admin_0_countries_deu.shx', 'admin_0_countries_egy.shp', 'admin_0_countries_egy.shx', 'admin_0_countries_esp.shp', 'admin_0_countries_esp.shx', 'admin_0_countries_fra.shp', 'admin_0_countries_fra.shx', 'admin_0_countries_gbr.shp', 'admin_0_countries_gbr.shx', 'admin_0_countries_grc.shp', 'admin_0_countries_grc.shx', 'admin_0_countries_idn.shp', 'admin_0_countries_idn.shx', 'admin_0_countries_ind.shp', 'admin_0_countries_ind.shx', 'admin_0_countries_iso.shp', 'admin_0_countries_iso.shx', 'admin_0_countries_isr.shp', 'admin_0_countries_isr.shx', 'admin_0_countries_ita.shp', 'admin_0_countries_ita.shx', 'admin_0_countries_jpn.shp', 'admin_0_countries_jpn.shx', 'admin_0_countries_kor.shp', 'admin_0_countries_kor.shx', 'admin_0_countries_lakes.shp', 'admin_0_countries_lakes.shx', 'admin_0_countries_mar.shp', 'admin_0_countries_mar.shx', 'admin_0_countries_nep.shp', 'admin_0_countries_nep.shx', 'admin_0_countries_nld.shp', 'admin_0_countries_nld.shx', 'admin_0_countries_pak.shp', 'admin_0_countries_pak.shx', 'admin_0_countries_pol.shp', 'admin_0_countries_pol.shx', 'admin_0_countries_prt.shp', 'admin_0_countries_prt.shx', 'admin_0_countries_rus.shp', 'admin_0_countries_rus.shx', 'admin_0_countries_sau.shp', 'admin_0_countries_sau.shx', 'admin_0_countries_swe.shx', 'admin_0_countries_tur.shp', 'admin_0_countries_tur.shx', 'admin_0_countries_ukr.shp', 'admin_0_countries_ukr.shx', 'admin_0_countries_vnm.shp', 'admin_0_countries_vnm.shx', 'admin_0_disputed_areas_scale_rank_minor_islands.shp', 'admin_0_disputed_areas_scale_rank_minor_islands.shx', 'admin_0_map_subunits.shp', 'admin_0_map_subunits.shx', 'admin_0_scale_rank_minor_islands.shp', 'admin_0_scale_rank_minor_islands.shx', 'admin_0_sovereignty.shx', 'admin_1_states_provinces_lakes.shp', 'admin_1_states_provinces_lakes.shx', 'admin_2_counties.shx', 'admin_2_counties_lakes.shp', 'admin_2_counties_lakes.shx', 'admin_2_label_points.shp', 'admin_2_label_points.shx', 'admin_2_label_points_details.shx', 'airports.shp', 'airports.shx', 'antarctic_claims.shp', 'antarctic_claims.shx', 'antarctic_claim_limit_lines.shp', 'antarctic_claim_limit_lines.shx', 'boundary_lines_disputed_areas.shp', 'boundary_lines_disputed_areas.shx', 'boundary_lines_land.shp', 'boundary_lines_land.shx', 'boundary_lines_map_units.shp', 'boundary_lines_map_units.shx', 'boundary_lines_maritime_indicator.shp', 'boundary_lines_maritime_indicator.shx', 'boundary_lines_maritime_indicator_chn.shp', 'boundary_lines_maritime_indicator_chn.shx', 'parks_and_protected_lands_area.shp', 'parks_and_protected_lands_area.shx', 'parks_and_protected_lands_line.shp', 'parks_and_protected_lands_line.shx', 'parks_and_protected_lands_point.shp', 'parks_and_protected_lands_point.shx', 'parks_and_protected_lands_scale_rank.shp', 'parks_and_protected_lands_scale_rank.shx', 'populated_places.shp', 'populated_places.shx', 'populated_places_simple.shp', 'populated_places_simple.shx', 'ports.shp', 'ports.shx', 'railroads.shp', 'railroads.shx', 'railroads_north_america.shp', 'railroads_north_america.shx', 'roads.shp', 'roads.shx', 'roads_north_america.shp', 'roads_north_america.shx', 'time_zones.shp', 'time_zones.shx', 'urban_areas.shp', 'urban_areas.shx', 'urban_areas_landscan.shp', 'urban_areas_landscan.shx']\n"
     ]
    }
   ],
   "source": [
    "import os\n",
    "\n",
    "# Define the directory path\n",
    "folder_path = 'Dataset/world_10m_cultural/10m_cultural'\n",
    "\n",
    "# List the files in the directory\n",
    "files = os.listdir(folder_path)\n",
    "\n",
    "# Display the files\n",
    "print(files)\n"
   ]
  },
  {
   "cell_type": "code",
   "execution_count": 10,
   "id": "4e2c34a5-aec4-4a48-83b1-269631a2c1ea",
   "metadata": {},
   "outputs": [
    {
     "name": "stdout",
     "output_type": "stream",
     "text": [
      "['admin_0_countries.shp', 'admin_0_countries_arg.shp', 'admin_0_countries_bdg.shp', 'admin_0_countries_bra.shp', 'admin_0_countries_chn.shp', 'admin_0_countries_deu.shp', 'admin_0_countries_egy.shp', 'admin_0_countries_esp.shp', 'admin_0_countries_fra.shp', 'admin_0_countries_gbr.shp', 'admin_0_countries_grc.shp', 'admin_0_countries_idn.shp', 'admin_0_countries_ind.shp', 'admin_0_countries_iso.shp', 'admin_0_countries_isr.shp', 'admin_0_countries_ita.shp', 'admin_0_countries_jpn.shp', 'admin_0_countries_kor.shp', 'admin_0_countries_lakes.shp', 'admin_0_countries_mar.shp', 'admin_0_countries_nep.shp', 'admin_0_countries_nld.shp', 'admin_0_countries_pak.shp', 'admin_0_countries_pol.shp', 'admin_0_countries_prt.shp', 'admin_0_countries_rus.shp', 'admin_0_countries_sau.shp', 'admin_0_countries_tur.shp', 'admin_0_countries_ukr.shp', 'admin_0_countries_vnm.shp', 'admin_0_disputed_areas_scale_rank_minor_islands.shp', 'admin_0_map_subunits.shp', 'admin_0_scale_rank_minor_islands.shp', 'admin_1_states_provinces_lakes.shp', 'admin_2_counties_lakes.shp', 'admin_2_label_points.shp', 'airports.shp', 'antarctic_claims.shp', 'antarctic_claim_limit_lines.shp', 'boundary_lines_disputed_areas.shp', 'boundary_lines_land.shp', 'boundary_lines_map_units.shp', 'boundary_lines_maritime_indicator.shp', 'boundary_lines_maritime_indicator_chn.shp', 'parks_and_protected_lands_area.shp', 'parks_and_protected_lands_line.shp', 'parks_and_protected_lands_point.shp', 'parks_and_protected_lands_scale_rank.shp', 'populated_places.shp', 'populated_places_simple.shp', 'ports.shp', 'railroads.shp', 'railroads_north_america.shp', 'roads.shp', 'roads_north_america.shp', 'time_zones.shp', 'urban_areas.shp', 'urban_areas_landscan.shp']\n"
     ]
    }
   ],
   "source": [
    "import os\n",
    "\n",
    "# Define the directory path\n",
    "folder_path = 'Dataset/world_10m_cultural/10m_cultural'\n",
    "\n",
    "# List the files in the directory and filter for .shp files only\n",
    "shapefiles = [file for file in os.listdir(folder_path) if file.endswith('.shp')]\n",
    "\n",
    "# Display the .shp files\n",
    "print(shapefiles)\n"
   ]
  },
  {
   "cell_type": "code",
   "execution_count": 11,
   "id": "fdd6c1a3-3d63-4eb6-a017-4c043f162d08",
   "metadata": {},
   "outputs": [
    {
     "data": {
      "image/png": "[encoded data removed]",
      "text/plain": [
       "<Figure size 1500x1000 with 1 Axes>"
      ]
     },
     "metadata": {},
     "output_type": "display_data"
    }
   ],
   "source": [
    "import geopandas as gpd\n",
    "import matplotlib.pyplot as plt\n",
    "\n",
    "# Data\n",
    "world = gpd.read_file('Dataset/world_10m_cultural/10m_cultural/admin_0_countries_esp.shp')\n",
    "\n",
    "# Creating a new column with random data for coloring purposes\n",
    "import random\n",
    "world[\"color\"] = [random.randint(0, 255) for _ in range(len(world))]\n",
    "\n",
    "# Plotting the Map\n",
    "fig, ax = plt.subplots(figsize=(15, 10))\n",
    "world.plot(column=\"color\", cmap=\"rainbow\", linewidth=0.5, ax=ax, edgecolor=\"blue\")\n",
    "ax.set_title(\"Chloropleth Map of the World\")\n",
    "ax.axis(\"on\")\n",
    "plt.xlabel(\"Maps of the World by Kingsley Chika CHUKWU Using Python\")\n",
    "plt.grid(color=\"green\", linewidth=0.5)\n",
    "plt.show()\n"
   ]
  },
  {
   "cell_type": "code",
   "execution_count": 12,
   "id": "49e2855f-cbb2-419a-98e2-eba8895c1da3",
   "metadata": {},
   "outputs": [
    {
     "data": {
      "application/vnd.jupyter.widget-view+json": {
       "model_id": "d8377d69edac4a3c83897bde7a17313f",
       "version_major": 2,
       "version_minor": 0
      },
      "text/plain": [
       "Dropdown(description='Shapefile:', options=('admin_0_countries.shp', 'admin_0_countries_arg.shp', 'admin_0_cou…"
      ]
     },
     "metadata": {},
     "output_type": "display_data"
    },
    {
     "data": {
      "application/vnd.jupyter.widget-view+json": {
       "model_id": "61908e6553f745aeab802b2fa9c1da9d",
       "version_major": 2,
       "version_minor": 0
      },
      "text/plain": [
       "Button(description='Show Map', style=ButtonStyle())"
      ]
     },
     "metadata": {},
     "output_type": "display_data"
    }
   ],
   "source": [
    "import os\n",
    "import geopandas as gpd\n",
    "import matplotlib.pyplot as plt\n",
    "import random\n",
    "import ipywidgets as widgets\n",
    "from IPython.display import display\n",
    "\n",
    "# Defining the directory path\n",
    "folder_path = 'Dataset/world_10m_cultural/10m_cultural'\n",
    "\n",
    "# List the shapefiles in the directory\n",
    "shapefiles = [file for file in os.listdir(folder_path) if file.endswith('.shp')]\n",
    "\n",
    "# Create a dropdown widget to select a shapefile\n",
    "dropdown = widgets.Dropdown(\n",
    "    options=shapefiles,\n",
    "    description='Shapefile:',\n",
    "    disabled=False,\n",
    ")\n",
    "\n",
    "# Create a button to plot the selected shapefile\n",
    "plot_button = widgets.Button(description=\"Show Map\")\n",
    "\n",
    "# Function to plot the selected shapefile\n",
    "def plot_map(b):\n",
    "    selected_shapefile = dropdown.value\n",
    "    shapefile_path = os.path.join(folder_path, selected_shapefile)\n",
    "    \n",
    "    # Load the selected shapefile\n",
    "    world = gpd.read_file(shapefile_path)\n",
    "    \n",
    "    # Create a new column with random data for coloring purposes\n",
    "    world[\"color\"] = [random.randint(0, 255) for _ in range(len(world))]\n",
    "    \n",
    "    # Plotting the map\n",
    "    fig, ax = plt.subplots(figsize=(15, 10))\n",
    "    world.plot(column=\"color\", cmap=\"rainbow\", linewidth=0.5, ax=ax, edgecolor=\"blue\")\n",
    "    ax.set_title(f\"Choropleth Map of {selected_shapefile}\")\n",
    "    ax.axis(\"on\")\n",
    "    plt.xlabel(f\"Map using {selected_shapefile}\")\n",
    "    plt.grid(color=\"green\", linewidth=0.5)\n",
    "    plt.show()\n",
    "\n",
    "# Link the button to the plotting function\n",
    "plot_button.on_click(plot_map)\n",
    "\n",
    "# Display the dropdown and button in Jupyter Notebook\n",
    "display(dropdown)\n",
    "display(plot_button)\n"
   ]
  },
  {
   "cell_type": "code",
   "execution_count": 15,
   "id": "08a63d4c-422a-4d25-a072-241f741cf114",
   "metadata": {},
   "outputs": [],
   "source": [
    "import os\n",
    "import geopandas as gpd\n",
    "import matplotlib.pyplot as plt\n",
    "import random\n",
    "import ipywidgets as widgets\n",
    "from IPython.display import display, clear_output\n",
    "\n",
    "# Defiing the directory path\n",
    "folder_path = 'Dataset/world_10m_cultural/10m_cultural'\n",
    "\n",
    "# List the shapefiles in the directory\n",
    "shapefiles = [file for file in os.listdir(folder_path) if file.endswith('.shp')]\n",
    "\n",
    "# Create a dropdown widget to select a shapefile\n",
    "dropdown = widgets.Dropdown(\n",
    "    options=shapefiles,\n",
    "    description='Shapefile:',\n",
    "    disabled=False,\n",
    ")\n",
    "\n",
    "# Create a button to plot the selected shapefile\n",
    "plot_button = widgets.Button(description=\"Plot Map\")\n",
    "\n",
    "# Function to plot the selected shapefile\n",
    "def plot_map(b):\n",
    "    selected_shapefile = dropdown.value\n",
    "    shapefile_path = os.path.join(folder_path, selected_shapefile)\n",
    "    \n",
    "    # Load the selected shapefile\n",
    "    world = gpd.read_file(shapefile_path)\n",
    "    \n",
    "    # Create a new column with random data for coloring purposes\n",
    "    world[\"color\"] = [random.randint(0, 255) for _ in range(len(world))]\n",
    "    \n",
    "    # Clear previous plot output\n",
    "    clear_output(wait=True)\n",
    "    \n",
    "    # Plotting the map\n",
    "    fig, ax = plt.subplots(figsize=(15, 10))\n",
    "    world.plot(column=\"color\", cmap=\"rainbow\", linewidth=0.5, ax=ax, edgecolor=\"blue\")\n",
    "    ax.set_title(f\"Choropleth Map of {selected_shapefile}\")\n",
    "    ax.axis(\"on\")\n",
    "    plt.xlabel(f\"Map using {selected_shapefile}\")\n",
    "    plt.grid(color=\"green\", linewidth=0.5)\n",
    "    \n",
    "    # Display the plot\n",
    "    plt.show()\n",
    "\n",
    "    # Re-display the widgets after clearing the output\n",
    "    display(dropdown)\n",
    "    display(plot_button)\n",
    "\n",
    "# Link the button to the plotting function\n",
    "plot_button.on_click(plot_map)\n",
    "\n",
    "# Display the dropdown and button in Jupyter Notebook\n",
    "display(dropdown)\n",
    "display(plot_button)\n"
   ]
  },
  {
   "cell_type": "code",
   "execution_count": 16,
   "id": "6f54e8a6-a47d-4005-958b-716fed91c1d9",
   "metadata": {},
   "outputs": [
    {
     "data": {
      "application/vnd.jupyter.widget-view+json": {
       "model_id": "6defa70a1021422faa3869149ff782eb",
       "version_major": 2,
       "version_minor": 0
      },
      "text/plain": [
       "Dropdown(description='Shapefile:', options=('admin_0_countries.shp', 'admin_0_countries_arg.shp', 'admin_0_cou…"
      ]
     },
     "metadata": {},
     "output_type": "display_data"
    },
    {
     "data": {
      "application/vnd.jupyter.widget-view+json": {
       "model_id": "97634d9ead5840cf96cbf439cd2401b4",
       "version_major": 2,
       "version_minor": 0
      },
      "text/plain": [
       "Button(description='Plot Map', style=ButtonStyle())"
      ]
     },
     "metadata": {},
     "output_type": "display_data"
    }
   ],
   "source": [
    "import os\n",
    "import geopandas as gpd\n",
    "import matplotlib.pyplot as plt\n",
    "import random\n",
    "import ipywidgets as widgets\n",
    "from IPython.display import display, clear_output\n",
    "\n",
    "# Define the directory path\n",
    "folder_path = 'Dataset/world_10m_cultural/10m_cultural'\n",
    "\n",
    "# List the shapefiles in the directory\n",
    "shapefiles = [file for file in os.listdir(folder_path) if file.endswith('.shp')]\n",
    "\n",
    "# Create a dropdown widget to select a shapefile\n",
    "dropdown = widgets.Dropdown(\n",
    "    options=shapefiles,\n",
    "    description='Shapefile:',\n",
    "    disabled=False,\n",
    ")\n",
    "\n",
    "# Create a button to plot the selected shapefile\n",
    "plot_button = widgets.Button(description=\"Plot Map\")\n",
    "\n",
    "# Function to plot the selected shapefile\n",
    "def plot_map(b):\n",
    "    selected_shapefile = dropdown.value\n",
    "    shapefile_path = os.path.join(folder_path, selected_shapefile)\n",
    "    \n",
    "    # Load the selected shapefile\n",
    "    world = gpd.read_file(shapefile_path)\n",
    "    \n",
    "    # Create a new column with random data for coloring purposes\n",
    "    world[\"color\"] = [random.randint(0, 255) for _ in range(len(world))]\n",
    "    \n",
    "    # Clear previous plot output\n",
    "    clear_output(wait=True)\n",
    "    \n",
    "    # Plotting the map\n",
    "    fig, ax = plt.subplots(figsize=(15, 10))\n",
    "    world.plot(column=\"color\", cmap=\"rainbow\", linewidth=0.5, ax=ax, edgecolor=\"blue\")\n",
    "    ax.set_title(f\"Choropleth Map of {selected_shapefile}\")\n",
    "    ax.axis(\"on\")\n",
    "    plt.xlabel(f\"Map using {selected_shapefile}\")\n",
    "    plt.grid(color=\"green\", linewidth=0.5)\n",
    "    \n",
    "    # Display the plot\n",
    "    plt.show()\n",
    "    plt.close(fig)  # Close the figure to avoid duplicate rendering\n",
    "    \n",
    "    # Re-display the widgets after clearing the output\n",
    "    display(dropdown)\n",
    "    display(plot_button)\n",
    "\n",
    "# Link the button to the plotting function\n",
    "plot_button.on_click(plot_map)\n",
    "\n",
    "# Display the dropdown and button in Jupyter Notebook\n",
    "display(dropdown)\n",
    "display(plot_button)\n"
   ]
  },
  {
   "cell_type": "code",
   "execution_count": 20,
   "id": "02cc9c71-3115-4061-99cb-fe41ee7bd773",
   "metadata": {},
   "outputs": [
    {
     "data": {
      "application/vnd.jupyter.widget-view+json": {
       "model_id": "c05eebcf32a948bfb2ce5c2d89967906",
       "version_major": 2,
       "version_minor": 0
      },
      "text/plain": [
       "Dropdown(description='Shapefile:', options=('admin_0_countries.shp', 'admin_0_countries_arg.shp', 'admin_0_cou…"
      ]
     },
     "metadata": {},
     "output_type": "display_data"
    }
   ],
   "source": [
    "import os\n",
    "import geopandas as gpd\n",
    "import matplotlib.pyplot as plt\n",
    "import random\n",
    "import ipywidgets as widgets\n",
    "from IPython.display import display, clear_output\n",
    "\n",
    "# Defining the directory path\n",
    "folder_path = 'Dataset/world_10m_cultural/10m_cultural'\n",
    "\n",
    "# List the shapefiles in the directory\n",
    "shapefiles = [file for file in os.listdir(folder_path) if file.endswith('.shp')]\n",
    "\n",
    "# Create a dropdown widget to select a shapefile\n",
    "dropdown = widgets.Dropdown(\n",
    "    options=shapefiles,\n",
    "    description='Shapefile:',\n",
    "    disabled=False,\n",
    ")\n",
    "\n",
    "# Function to plot the selected shapefile\n",
    "def plot_map(change):\n",
    "    clear_output(wait=True)  # Clear the previous output including the dropdown\n",
    "    \n",
    "    selected_shapefile = dropdown.value\n",
    "    shapefile_path = os.path.join(folder_path, selected_shapefile)\n",
    "    \n",
    "    # Load the selected shapefile\n",
    "    world = gpd.read_file(shapefile_path)\n",
    "    \n",
    "    # Create a new column with random data for coloring purposes\n",
    "    world[\"color\"] = [random.randint(0, 255) for _ in range(len(world))]\n",
    "    \n",
    "    # Plotting the map\n",
    "    fig, ax = plt.subplots(figsize=(15, 10))\n",
    "    world.plot(column=\"color\", cmap=\"rainbow\", linewidth=0.5, ax=ax, edgecolor=\"blue\")\n",
    "    ax.set_title(f\"Choropleth Map of {selected_shapefile}\")\n",
    "    ax.axis(\"on\")\n",
    "    plt.xlabel(f\"Map using {selected_shapefile}\")\n",
    "    plt.grid(color=\"green\", linewidth=0.5)\n",
    "    \n",
    "    # Show the plot\n",
    "    plt.show()\n",
    "    \n",
    "    # Re-display the dropdown after plotting\n",
    "    display(dropdown)\n",
    "\n",
    "# Display the dropdown widget in the output\n",
    "display(dropdown)\n",
    "\n",
    "# Link the dropdown to the plot_map function so that it plots the map when a file is selected\n",
    "dropdown.observe(plot_map, names='value')\n"
   ]
  },
  {
   "cell_type": "code",
   "execution_count": 29,
   "id": "c0bb1d22-0d4e-464c-940f-04f1f7e9275c",
   "metadata": {},
   "outputs": [
    {
     "data": {
      "application/vnd.jupyter.widget-view+json": {
       "model_id": "ce776c9ff9a64b4bad70dfa9455bba8c",
       "version_major": 2,
       "version_minor": 0
      },
      "text/plain": [
       "Dropdown(description='Shapefile:', options=('admin_0_countries.shp', 'admin_0_countries_arg.shp', 'admin_0_cou…"
      ]
     },
     "metadata": {},
     "output_type": "display_data"
    },
    {
     "data": {
      "application/vnd.jupyter.widget-view+json": {
       "model_id": "2465e7e2aa8847b38d52e75491fc05bd",
       "version_major": 2,
       "version_minor": 0
      },
      "text/plain": [
       "Button(description='Plot Map', style=ButtonStyle())"
      ]
     },
     "metadata": {},
     "output_type": "display_data"
    }
   ],
   "source": [
    "import os\n",
    "import geopandas as gpd\n",
    "import matplotlib.pyplot as plt\n",
    "import random\n",
    "import ipywidgets as widgets\n",
    "from IPython.display import display, clear_output\n",
    "\n",
    "# Defiing the directory path\n",
    "folder_path = 'Dataset/world_10m_cultural/10m_cultural'\n",
    "\n",
    "# List the shapefiles in the directory\n",
    "shapefiles = [file for file in os.listdir(folder_path) if file.endswith('.shp')]\n",
    "\n",
    "# Create a dropdown widget to select a shapefile\n",
    "dropdown = widgets.Dropdown(\n",
    "    options=shapefiles,\n",
    "    description='Shapefile:',\n",
    "    disabled=False,\n",
    ")\n",
    "\n",
    "# Create a button to plot the selected shapefile\n",
    "plot_button = widgets.Button(description=\"Plot Map\")\n",
    "\n",
    "# Function to plot the selected shapefile\n",
    "def plot_map(b):\n",
    "    selected_shapefile = dropdown.value\n",
    "    shapefile_path = os.path.join(folder_path, selected_shapefile)\n",
    "    \n",
    "    # Load the selected shapefile\n",
    "    world = gpd.read_file(shapefile_path)\n",
    "    \n",
    "    # Create a new column with random data for coloring purposes\n",
    "    world[\"color\"] = [random.randint(0, 255) for _ in range(len(world))]\n",
    "    \n",
    "    # Clear previous plot output\n",
    "    clear_output(wait=True)\n",
    "    \n",
    "    # Plotting the map\n",
    "    fig, ax = plt.subplots(figsize=(15, 10))\n",
    "    world.plot(column=\"color\", cmap=\"rainbow\", linewidth=0.5, ax=ax, edgecolor=\"blue\")\n",
    "    ax.set_title(f\"Choropleth Map of {selected_shapefile}\")\n",
    "    ax.axis(\"on\")\n",
    "    plt.xlabel(f\"Map using {selected_shapefile}\")\n",
    "    plt.grid(color=\"green\", linewidth=0.5)\n",
    "    \n",
    "\n",
    "    # Re-display the widgets after clearing the output\n",
    "    display(dropdown)\n",
    "    display(plot_button)\n",
    "# Display the plot\n",
    "plt.show()\n",
    "\n",
    "# Link the button to the plotting function\n",
    "plot_button.on_click(plot_map)\n",
    "\n",
    "# # Display the dropdown and button in Jupyter Notebook\n",
    "display(dropdown)\n",
    "display(plot_button)\n",
    "\n",
    "\n"
   ]
  },
  {
   "cell_type": "code",
   "execution_count": 30,
   "id": "512e155c-b226-4ef5-9c1b-c43c61a5295f",
   "metadata": {},
   "outputs": [
    {
     "data": {
      "application/vnd.jupyter.widget-view+json": {
       "model_id": "64c907cb77854c62b8bd9b417b868b27",
       "version_major": 2,
       "version_minor": 0
      },
      "text/plain": [
       "Dropdown(description='Shapefile:', options=('admin_0_countries.shp', 'admin_0_countries_arg.shp', 'admin_0_cou…"
      ]
     },
     "metadata": {},
     "output_type": "display_data"
    },
    {
     "data": {
      "application/vnd.jupyter.widget-view+json": {
       "model_id": "55a14ac6fe404510b95abf3ecdcd4bcb",
       "version_major": 2,
       "version_minor": 0
      },
      "text/plain": [
       "Button(description='Plot Map', style=ButtonStyle())"
      ]
     },
     "metadata": {},
     "output_type": "display_data"
    },
    {
     "data": {
      "application/vnd.jupyter.widget-view+json": {
       "model_id": "380048052b244d8db19a45fa8257435c",
       "version_major": 2,
       "version_minor": 0
      },
      "text/plain": [
       "Output()"
      ]
     },
     "metadata": {},
     "output_type": "display_data"
    }
   ],
   "source": [
    "import os\n",
    "import geopandas as gpd\n",
    "import matplotlib.pyplot as plt\n",
    "import random\n",
    "import ipywidgets as widgets\n",
    "from IPython.display import display, clear_output\n",
    "\n",
    "# Define the directory path\n",
    "folder_path = 'Dataset/world_10m_cultural/10m_cultural'\n",
    "\n",
    "# List the shapefiles in the directory\n",
    "shapefiles = [file for file in os.listdir(folder_path) if file.endswith('.shp')]\n",
    "\n",
    "# Create a dropdown widget to select a shapefile\n",
    "dropdown = widgets.Dropdown(\n",
    "    options=shapefiles,\n",
    "    description='Shapefile:',\n",
    "    disabled=False,\n",
    ")\n",
    "\n",
    "# Create a button to plot the selected shapefile\n",
    "plot_button = widgets.Button(description=\"Plot Map\")\n",
    "\n",
    "# Create an output widget to display the plot\n",
    "output = widgets.Output()\n",
    "\n",
    "# Function to plot the selected shapefile\n",
    "def plot_map(b):\n",
    "    with output:\n",
    "        # Clear previous output\n",
    "        clear_output(wait=True)\n",
    "        \n",
    "        selected_shapefile = dropdown.value\n",
    "        shapefile_path = os.path.join(folder_path, selected_shapefile)\n",
    "        \n",
    "        # Load the selected shapefile\n",
    "        world = gpd.read_file(shapefile_path)\n",
    "        \n",
    "        # Create a new column with random data for coloring purposes\n",
    "        world[\"color\"] = [random.randint(0, 255) for _ in range(len(world))]\n",
    "        \n",
    "        # Plotting the map\n",
    "        fig, ax = plt.subplots(figsize=(15, 10))\n",
    "        world.plot(column=\"color\", cmap=\"rainbow\", linewidth=0.5, ax=ax, edgecolor=\"blue\")\n",
    "        ax.set_title(f\"Choropleth Map of {selected_shapefile}\")\n",
    "        ax.axis(\"on\")\n",
    "        plt.xlabel(f\"Map using {selected_shapefile}\")\n",
    "        plt.grid(color=\"green\", linewidth=0.5)\n",
    "        \n",
    "        # Show the plot\n",
    "        plt.show()\n",
    "\n",
    "# Link the button to the plotting function\n",
    "plot_button.on_click(plot_map)\n",
    "\n",
    "# Display the dropdown, button, and output in the same cell\n",
    "display(dropdown)\n",
    "display(plot_button)\n",
    "display(output)\n"
   ]
  },
  {
   "cell_type": "code",
   "execution_count": 31,
   "id": "6198a231-2f94-4b48-9b8a-caba2e01cbd0",
   "metadata": {},
   "outputs": [
    {
     "data": {
      "application/vnd.jupyter.widget-view+json": {
       "model_id": "094ff7b321eb431f98ef7036a2494b8c",
       "version_major": 2,
       "version_minor": 0
      },
      "text/plain": [
       "SelectMultiple(description='Shapefiles:', options=('admin_0_countries.shp', 'admin_0_countries_arg.shp', 'admi…"
      ]
     },
     "metadata": {},
     "output_type": "display_data"
    },
    {
     "data": {
      "application/vnd.jupyter.widget-view+json": {
       "model_id": "56768a489a0e42798819674182b2ed1a",
       "version_major": 2,
       "version_minor": 0
      },
      "text/plain": [
       "Button(description='Plot Map', style=ButtonStyle())"
      ]
     },
     "metadata": {},
     "output_type": "display_data"
    },
    {
     "data": {
      "application/vnd.jupyter.widget-view+json": {
       "model_id": "f4af1c9b168348c3aeb166340df5e9cc",
       "version_major": 2,
       "version_minor": 0
      },
      "text/plain": [
       "Output()"
      ]
     },
     "metadata": {},
     "output_type": "display_data"
    }
   ],
   "source": [
    "import os\n",
    "import geopandas as gpd\n",
    "import matplotlib.pyplot as plt\n",
    "import random\n",
    "import ipywidgets as widgets\n",
    "from IPython.display import display, clear_output\n",
    "\n",
    "# Define the directory path\n",
    "folder_path = 'Dataset/world_10m_cultural/10m_cultural'\n",
    "\n",
    "# List the shapefiles in the directory\n",
    "shapefiles = [file for file in os.listdir(folder_path) if file.endswith('.shp')]\n",
    "\n",
    "# Create a multi-select widget to select multiple shapefiles\n",
    "dropdown = widgets.SelectMultiple(\n",
    "    options=shapefiles,\n",
    "    description='Shapefiles:',\n",
    "    disabled=False,\n",
    ")\n",
    "\n",
    "# Create a button to plot the selected shapefiles\n",
    "plot_button = widgets.Button(description=\"Plot Map\")\n",
    "\n",
    "# Create an output widget to display the plot\n",
    "output = widgets.Output()\n",
    "\n",
    "# Function to plot the selected shapefiles\n",
    "def plot_map(b):\n",
    "    with output:\n",
    "        # Clear previous output\n",
    "        clear_output(wait=True)\n",
    "        \n",
    "        # Create a figure and axis for the plot\n",
    "        fig, ax = plt.subplots(figsize=(15, 10))\n",
    "        \n",
    "        # Iterate over each selected shapefile and plot it\n",
    "        for selected_shapefile in dropdown.value:\n",
    "            shapefile_path = os.path.join(folder_path, selected_shapefile)\n",
    "            \n",
    "            # Load the selected shapefile\n",
    "            world = gpd.read_file(shapefile_path)\n",
    "            \n",
    "            # Create a new column with random data for coloring purposes\n",
    "            world[\"color\"] = [random.randint(0, 255) for _ in range(len(world))]\n",
    "            \n",
    "            # Plotting the map\n",
    "            world.plot(column=\"color\", cmap=\"rainbow\", linewidth=0.5, ax=ax, edgecolor=\"blue\")\n",
    "        \n",
    "        ax.set_title(f\"Choropleth Map of Selected Shapefiles\")\n",
    "        ax.axis(\"on\")\n",
    "        plt.xlabel(f\"Map using selected shapefiles\")\n",
    "        plt.grid(color=\"green\", linewidth=0.5)\n",
    "        \n",
    "        # Show the plot\n",
    "        plt.show()\n",
    "\n",
    "# Link the button to the plotting function\n",
    "plot_button.on_click(plot_map)\n",
    "\n",
    "# Display the dropdown, button, and output in the same cell\n",
    "display(dropdown)\n",
    "display(plot_button)\n",
    "display(output)\n"
   ]
  },
  {
   "cell_type": "code",
   "execution_count": 32,
   "id": "43198672-4f20-4661-bb22-eb6c1c4b8652",
   "metadata": {},
   "outputs": [
    {
     "data": {
      "application/vnd.jupyter.widget-view+json": {
       "model_id": "6ebdc6957cde45ca926dad800648a6ac",
       "version_major": 2,
       "version_minor": 0
      },
      "text/plain": [
       "HBox(children=(SelectMultiple(description='Available:', options=('admin_0_countries.shp', 'admin_0_countries_a…"
      ]
     },
     "metadata": {},
     "output_type": "display_data"
    },
    {
     "data": {
      "application/vnd.jupyter.widget-view+json": {
       "model_id": "b968e94193064083b29313dd97b72797",
       "version_major": 2,
       "version_minor": 0
      },
      "text/plain": [
       "Button(description='Plot Map', style=ButtonStyle())"
      ]
     },
     "metadata": {},
     "output_type": "display_data"
    },
    {
     "data": {
      "application/vnd.jupyter.widget-view+json": {
       "model_id": "61e7c7df493747e2a176dcd697b25ea1",
       "version_major": 2,
       "version_minor": 0
      },
      "text/plain": [
       "Output()"
      ]
     },
     "metadata": {},
     "output_type": "display_data"
    }
   ],
   "source": [
    "import os\n",
    "import geopandas as gpd\n",
    "import matplotlib.pyplot as plt\n",
    "import random\n",
    "import ipywidgets as widgets\n",
    "from IPython.display import display, clear_output\n",
    "\n",
    "# Define the directory path\n",
    "folder_path = 'Dataset/world_10m_cultural/10m_cultural'\n",
    "\n",
    "# List the shapefiles in the directory\n",
    "shapefiles = [file for file in os.listdir(folder_path) if file.endswith('.shp')]\n",
    "\n",
    "# Create two listboxes: one for available shapefiles and one for selected shapefiles\n",
    "available_shapefiles = widgets.SelectMultiple(\n",
    "    options=shapefiles,\n",
    "    description='Available:',\n",
    "    disabled=False,\n",
    "    rows=10,\n",
    ")\n",
    "\n",
    "selected_shapefiles = widgets.SelectMultiple(\n",
    "    options=[],\n",
    "    description='Selected:',\n",
    "    disabled=False,\n",
    "    rows=10,\n",
    ")\n",
    "\n",
    "# Create buttons to move files between the listboxes\n",
    "add_button = widgets.Button(description=\"Add →\")\n",
    "remove_button = widgets.Button(description=\"← Remove\")\n",
    "\n",
    "# Create a button to plot the selected shapefiles\n",
    "plot_button = widgets.Button(description=\"Plot Map\")\n",
    "\n",
    "# Create an output widget to display the plot\n",
    "output = widgets.Output()\n",
    "\n",
    "# Function to add selected files from the available box to the selected box\n",
    "def add_files(b):\n",
    "    selected = available_shapefiles.value\n",
    "    # Add selected files to the right box\n",
    "    selected_shapefiles.options = list(set(selected_shapefiles.options).union(set(selected)))\n",
    "\n",
    "# Function to remove selected files from the selected box\n",
    "def remove_files(b):\n",
    "    to_remove = selected_shapefiles.value\n",
    "    # Remove the selected files from the right box\n",
    "    selected_shapefiles.options = [item for item in selected_shapefiles.options if item not in to_remove]\n",
    "\n",
    "# Function to plot the selected shapefiles\n",
    "def plot_map(b):\n",
    "    with output:\n",
    "        # Clear previous output\n",
    "        clear_output(wait=True)\n",
    "        \n",
    "        # Create a figure and axis for the plot\n",
    "        fig, ax = plt.subplots(figsize=(15, 10))\n",
    "        \n",
    "        # Iterate over each selected shapefile and plot it\n",
    "        for selected_shapefile in selected_shapefiles.options:\n",
    "            shapefile_path = os.path.join(folder_path, selected_shapefile)\n",
    "            \n",
    "            # Load the selected shapefile\n",
    "            world = gpd.read_file(shapefile_path)\n",
    "            \n",
    "            # Create a new column with random data for coloring purposes\n",
    "            world[\"color\"] = [random.randint(0, 255) for _ in range(len(world))]\n",
    "            \n",
    "            # Plotting the map\n",
    "            world.plot(column=\"color\", cmap=\"rainbow\", linewidth=0.5, ax=ax, edgecolor=\"blue\")\n",
    "        \n",
    "        ax.set_title(f\"Choropleth Map of Selected Shapefiles\")\n",
    "        ax.axis(\"on\")\n",
    "        plt.xlabel(f\"Map using selected shapefiles\")\n",
    "        plt.grid(color=\"green\", linewidth=0.5)\n",
    "        \n",
    "        # Show the plot\n",
    "        plt.show()\n",
    "\n",
    "# Link the buttons to the respective functions\n",
    "add_button.on_click(add_files)\n",
    "remove_button.on_click(remove_files)\n",
    "plot_button.on_click(plot_map)\n",
    "\n",
    "# Arrange the widgets in a horizontal layout\n",
    "controls = widgets.HBox([available_shapefiles, widgets.VBox([add_button, remove_button]), selected_shapefiles])\n",
    "\n",
    "# Display the controls and plot button in the same cell\n",
    "display(controls)\n",
    "display(plot_button)\n",
    "display(output)\n"
   ]
  },
  {
   "cell_type": "code",
   "execution_count": 33,
   "id": "c9227ace-3bfd-461d-b407-92a802309ff2",
   "metadata": {},
   "outputs": [
    {
     "data": {
      "application/vnd.jupyter.widget-view+json": {
       "model_id": "121582ebf9714ddbb6765e94691d5b76",
       "version_major": 2,
       "version_minor": 0
      },
      "text/plain": [
       "HBox(children=(SelectMultiple(description='Available:', options=('admin_0_countries.shp', 'admin_0_countries_a…"
      ]
     },
     "metadata": {},
     "output_type": "display_data"
    },
    {
     "data": {
      "application/vnd.jupyter.widget-view+json": {
       "model_id": "9ebfd84dcd1e430a824916e5ff0e0fa5",
       "version_major": 2,
       "version_minor": 0
      },
      "text/plain": [
       "Button(description='Plot Map', style=ButtonStyle())"
      ]
     },
     "metadata": {},
     "output_type": "display_data"
    },
    {
     "data": {
      "application/vnd.jupyter.widget-view+json": {
       "model_id": "ecdf0d1aa6c84ff894f31e34961261f6",
       "version_major": 2,
       "version_minor": 0
      },
      "text/plain": [
       "Output()"
      ]
     },
     "metadata": {},
     "output_type": "display_data"
    }
   ],
   "source": [
    "import os\n",
    "import geopandas as gpd\n",
    "import matplotlib.pyplot as plt\n",
    "import random\n",
    "import ipywidgets as widgets\n",
    "from IPython.display import display, clear_output\n",
    "\n",
    "# Define the directory path\n",
    "folder_path = 'Dataset/world_10m_cultural/10m_cultural'\n",
    "\n",
    "# List the shapefiles in the directory\n",
    "shapefiles = [file for file in os.listdir(folder_path) if file.endswith('.shp')]\n",
    "\n",
    "# Create two listboxes: one for available shapefiles and one for selected shapefiles\n",
    "available_shapefiles = widgets.SelectMultiple(\n",
    "    options=shapefiles,\n",
    "    description='Available:',\n",
    "    disabled=False,\n",
    "    rows=10,\n",
    ")\n",
    "\n",
    "selected_shapefiles = widgets.SelectMultiple(\n",
    "    options=[],\n",
    "    description='Selected:',\n",
    "    disabled=False,\n",
    "    rows=10,\n",
    ")\n",
    "\n",
    "# Create buttons to move files between the listboxes\n",
    "add_button = widgets.Button(description=\"Add →\")\n",
    "remove_button = widgets.Button(description=\"← Remove\")\n",
    "\n",
    "# Create reorder buttons\n",
    "up_button = widgets.Button(description=\"↑ Move Up\")\n",
    "down_button = widgets.Button(description=\"↓ Move Down\")\n",
    "\n",
    "# Create a button to plot the selected shapefiles\n",
    "plot_button = widgets.Button(description=\"Plot Map\")\n",
    "\n",
    "# Create an output widget to display the plot\n",
    "output = widgets.Output()\n",
    "\n",
    "# Function to add selected files from the available box to the selected box\n",
    "def add_files(b):\n",
    "    selected = available_shapefiles.value\n",
    "    # Add selected files to the right box\n",
    "    selected_shapefiles.options = list(set(selected_shapefiles.options).union(set(selected)))\n",
    "\n",
    "# Function to remove selected files from the selected box\n",
    "def remove_files(b):\n",
    "    to_remove = selected_shapefiles.value\n",
    "    # Remove the selected files from the right box\n",
    "    selected_shapefiles.options = [item for item in selected_shapefiles.options if item not in to_remove]\n",
    "\n",
    "# Function to move the selected shapefile up\n",
    "def move_up(b):\n",
    "    selection = selected_shapefiles.value\n",
    "    options = list(selected_shapefiles.options)\n",
    "    for selected in selection:\n",
    "        idx = options.index(selected)\n",
    "        if idx > 0:  # Ensure we don't go above the first item\n",
    "            options[idx], options[idx - 1] = options[idx - 1], options[idx]\n",
    "    selected_shapefiles.options = options\n",
    "    selected_shapefiles.value = selection  # Keep selection\n",
    "\n",
    "# Function to move the selected shapefile down\n",
    "def move_down(b):\n",
    "    selection = selected_shapefiles.value\n",
    "    options = list(selected_shapefiles.options)\n",
    "    for selected in reversed(selection):\n",
    "        idx = options.index(selected)\n",
    "        if idx < len(options) - 1:  # Ensure we don't go below the last item\n",
    "            options[idx], options[idx + 1] = options[idx + 1], options[idx]\n",
    "    selected_shapefiles.options = options\n",
    "    selected_shapefiles.value = selection  # Keep selection\n",
    "\n",
    "# Function to plot the selected shapefiles\n",
    "def plot_map(b):\n",
    "    with output:\n",
    "        # Clear previous output\n",
    "        clear_output(wait=True)\n",
    "        \n",
    "        # Create a figure and axis for the plot\n",
    "        fig, ax = plt.subplots(figsize=(15, 10))\n",
    "        \n",
    "        # Iterate over each selected shapefile and plot it\n",
    "        for selected_shapefile in selected_shapefiles.options:\n",
    "            shapefile_path = os.path.join(folder_path, selected_shapefile)\n",
    "            \n",
    "            # Load the selected shapefile\n",
    "            world = gpd.read_file(shapefile_path)\n",
    "            \n",
    "            # Create a new column with random data for coloring purposes\n",
    "            world[\"color\"] = [random.randint(0, 255) for _ in range(len(world))]\n",
    "            \n",
    "            # Plotting the map\n",
    "            world.plot(column=\"color\", cmap=\"rainbow\", linewidth=0.5, ax=ax, edgecolor=\"blue\")\n",
    "        \n",
    "        ax.set_title(f\"Choropleth Map of Selected Shapefiles\")\n",
    "        ax.axis(\"on\")\n",
    "        plt.xlabel(f\"Map using selected shapefiles\")\n",
    "        plt.grid(color=\"green\", linewidth=0.5)\n",
    "        \n",
    "        # Show the plot\n",
    "        plt.show()\n",
    "\n",
    "# Link the buttons to the respective functions\n",
    "add_button.on_click(add_files)\n",
    "remove_button.on_click(remove_files)\n",
    "up_button.on_click(move_up)\n",
    "down_button.on_click(move_down)\n",
    "plot_button.on_click(plot_map)\n",
    "\n",
    "# Arrange the widgets in a horizontal layout\n",
    "controls = widgets.HBox([\n",
    "    available_shapefiles, \n",
    "    widgets.VBox([add_button, remove_button]),\n",
    "    selected_shapefiles, \n",
    "    widgets.VBox([up_button, down_button])\n",
    "])\n",
    "\n",
    "# Display the controls and plot button in the same cell\n",
    "display(controls)\n",
    "display(plot_button)\n",
    "display(output)\n"
   ]
  },
  {
   "cell_type": "code",
   "execution_count": 34,
   "id": "37e4f84e-1956-4677-8a9f-b55dfa909af1",
   "metadata": {},
   "outputs": [
    {
     "data": {
      "application/vnd.jupyter.widget-view+json": {
       "model_id": "46cd528bb1404b3da4725ce8d409955a",
       "version_major": 2,
       "version_minor": 0
      },
      "text/plain": [
       "HBox(children=(SelectMultiple(description='Available:', options=('admin_0_countries.shp', 'admin_0_countries_a…"
      ]
     },
     "metadata": {},
     "output_type": "display_data"
    },
    {
     "data": {
      "application/vnd.jupyter.widget-view+json": {
       "model_id": "fb3edf38649745bc981398f9c345d854",
       "version_major": 2,
       "version_minor": 0
      },
      "text/plain": [
       "Button(description='Plot Map', style=ButtonStyle())"
      ]
     },
     "metadata": {},
     "output_type": "display_data"
    },
    {
     "data": {
      "application/vnd.jupyter.widget-view+json": {
       "model_id": "180fa6dc3637487b8903492a22020723",
       "version_major": 2,
       "version_minor": 0
      },
      "text/plain": [
       "Output()"
      ]
     },
     "metadata": {},
     "output_type": "display_data"
    }
   ],
   "source": [
    "import os\n",
    "import geopandas as gpd\n",
    "import matplotlib.pyplot as plt\n",
    "import random\n",
    "import ipywidgets as widgets\n",
    "from IPython.display import display, clear_output\n",
    "\n",
    "# Define the directory path\n",
    "folder_path = 'Dataset/world_10m_cultural/10m_cultural'\n",
    "\n",
    "# List the shapefiles in the directory\n",
    "shapefiles = [file for file in os.listdir(folder_path) if file.endswith('.shp')]\n",
    "\n",
    "# Create two listboxes: one for available shapefiles and one for selected shapefiles\n",
    "available_shapefiles = widgets.SelectMultiple(\n",
    "    options=shapefiles,\n",
    "    description='Available:',\n",
    "    disabled=False,\n",
    "    rows=10,\n",
    ")\n",
    "\n",
    "selected_shapefiles = widgets.SelectMultiple(\n",
    "    options=[],\n",
    "    description='Selected:',\n",
    "    disabled=False,\n",
    "    rows=10,\n",
    ")\n",
    "\n",
    "# Create buttons to move files between the listboxes\n",
    "add_button = widgets.Button(description=\"Add →\")\n",
    "remove_button = widgets.Button(description=\"← Remove\")\n",
    "\n",
    "# Create reorder buttons\n",
    "up_button = widgets.Button(description=\"↑ Move Up\")\n",
    "down_button = widgets.Button(description=\"↓ Move Down\")\n",
    "\n",
    "# Create a button to plot the selected shapefiles\n",
    "plot_button = widgets.Button(description=\"Plot Map\")\n",
    "\n",
    "# Create an output widget to display the plot\n",
    "output = widgets.Output()\n",
    "\n",
    "# Function to add selected files from the available box to the selected box\n",
    "def add_files(b):\n",
    "    selected = available_shapefiles.value\n",
    "    # Add selected files to the right box\n",
    "    selected_shapefiles.options = list(set(selected_shapefiles.options).union(set(selected)))\n",
    "\n",
    "# Function to remove selected files from the selected box\n",
    "def remove_files(b):\n",
    "    to_remove = selected_shapefiles.value\n",
    "    # Remove the selected files from the right box\n",
    "    selected_shapefiles.options = [item for item in selected_shapefiles.options if item not in to_remove]\n",
    "\n",
    "# Function to move the selected shapefile up\n",
    "def move_up(b):\n",
    "    selection = selected_shapefiles.value\n",
    "    options = list(selected_shapefiles.options)\n",
    "    for selected in selection:\n",
    "        idx = options.index(selected)\n",
    "        if idx > 0:  # Ensure we don't go above the first item\n",
    "            options[idx], options[idx - 1] = options[idx - 1], options[idx]\n",
    "    selected_shapefiles.options = options\n",
    "    selected_shapefiles.value = selection  # Keep selection\n",
    "\n",
    "# Function to move the selected shapefile down\n",
    "def move_down(b):\n",
    "    selection = selected_shapefiles.value\n",
    "    options = list(selected_shapefiles.options)\n",
    "    for selected in reversed(selection):\n",
    "        idx = options.index(selected)\n",
    "        if idx < len(options) - 1:  # Ensure we don't go below the last item\n",
    "            options[idx], options[idx + 1] = options[idx + 1], options[idx]\n",
    "    selected_shapefiles.options = options\n",
    "    selected_shapefiles.value = selection  # Keep selection\n",
    "\n",
    "# Function to plot the selected shapefiles\n",
    "def plot_map(b):\n",
    "    with output:\n",
    "        # Clear previous output\n",
    "        clear_output(wait=True)\n",
    "        \n",
    "        # Create a figure and axis for the plot\n",
    "        fig, ax = plt.subplots(figsize=(15, 10))\n",
    "        \n",
    "        # Iterate over each selected shapefile and plot it in the exact order as in the selected box\n",
    "        for selected_shapefile in selected_shapefiles.options:\n",
    "            shapefile_path = os.path.join(folder_path, selected_shapefile)\n",
    "            \n",
    "            # Load the selected shapefile\n",
    "            world = gpd.read_file(shapefile_path)\n",
    "            \n",
    "            # Create a new column with random data for coloring purposes\n",
    "            world[\"color\"] = [random.randint(0, 255) for _ in range(len(world))]\n",
    "            \n",
    "            # Plotting the map in the order of selection\n",
    "            world.plot(column=\"color\", cmap=\"rainbow\", linewidth=0.5, ax=ax, edgecolor=\"blue\")\n",
    "        \n",
    "        ax.set_title(f\"Choropleth Map of Selected Shapefiles in Order\")\n",
    "        ax.axis(\"on\")\n",
    "        plt.xlabel(f\"Map using selected shapefiles in order\")\n",
    "        plt.grid(color=\"green\", linewidth=0.5)\n",
    "        \n",
    "        # Show the plot\n",
    "        plt.show()\n",
    "\n",
    "# Link the buttons to the respective functions\n",
    "add_button.on_click(add_files)\n",
    "remove_button.on_click(remove_files)\n",
    "up_button.on_click(move_up)\n",
    "down_button.on_click(move_down)\n",
    "plot_button.on_click(plot_map)\n",
    "\n",
    "# Arrange the widgets in a horizontal layout\n",
    "controls = widgets.HBox([\n",
    "    available_shapefiles, \n",
    "    widgets.VBox([add_button, remove_button]),\n",
    "    selected_shapefiles, \n",
    "    widgets.VBox([up_button, down_button])\n",
    "])\n",
    "\n",
    "# Display the controls and plot button in the same cell\n",
    "display(controls)\n",
    "display(plot_button)\n",
    "display(output)\n"
   ]
  },
  {
   "cell_type": "code",
   "execution_count": 37,
   "id": "329f558b-ef65-488c-9a82-a38a2d6622f7",
   "metadata": {},
   "outputs": [
    {
     "data": {
      "application/vnd.jupyter.widget-view+json": {
       "model_id": "ba6a625065ae4be2beab9149adce26cb",
       "version_major": 2,
       "version_minor": 0
      },
      "text/plain": [
       "HBox(children=(VBox(children=(SelectMultiple(description='Available Shapefiles:', options=('admin_0_countries.…"
      ]
     },
     "metadata": {},
     "output_type": "display_data"
    },
    {
     "data": {
      "application/vnd.jupyter.widget-view+json": {
       "model_id": "9372456aabaf41c6add5929380e0a64c",
       "version_major": 2,
       "version_minor": 0
      },
      "text/plain": [
       "Button(description='Plot Map', style=ButtonStyle())"
      ]
     },
     "metadata": {},
     "output_type": "display_data"
    },
    {
     "data": {
      "application/vnd.jupyter.widget-view+json": {
       "model_id": "8cfe43617e034b969fff688474a93422",
       "version_major": 2,
       "version_minor": 0
      },
      "text/plain": [
       "Output()"
      ]
     },
     "metadata": {},
     "output_type": "display_data"
    }
   ],
   "source": [
    "import os\n",
    "import geopandas as gpd\n",
    "import folium\n",
    "from folium import LayerControl\n",
    "import ipywidgets as widgets\n",
    "from IPython.display import display, clear_output\n",
    "\n",
    "# Define the directory path for shapefiles\n",
    "folder_path = 'Dataset/world_10m_cultural/10m_cultural'\n",
    "\n",
    "# List shapefiles in the directory\n",
    "shapefiles = [file for file in os.listdir(folder_path) if file.endswith('.shp')]\n",
    "\n",
    "# Base map options with attribution\n",
    "base_maps = {\n",
    "    'OpenStreetMap': ('OpenStreetMap', '© OpenStreetMap contributors'),\n",
    "    'Stamen Terrain': ('Stamen Terrain', 'Map tiles by Stamen Design, CC BY 3.0 — Map data © OpenStreetMap contributors'),\n",
    "    'Stamen Toner': ('Stamen Toner', 'Map tiles by Stamen Design, CC BY 3.0 — Map data © OpenStreetMap contributors'),\n",
    "    'Stamen Watercolor': ('Stamen Watercolor', 'Map tiles by Stamen Design, CC BY 3.0 — Map data © OpenStreetMap contributors'),\n",
    "    'CartoDB Positron': ('CartoDB Positron', '© OpenStreetMap contributors & CartoDB'),\n",
    "    'CartoDB Dark Matter': ('CartoDB Dark Matter', '© OpenStreetMap contributors & CartoDB'),\n",
    "}\n",
    "\n",
    "# Dropdown for base map selection\n",
    "base_map_dropdown = widgets.Dropdown(\n",
    "    options=list(base_maps.keys()),\n",
    "    description='Base Map:',\n",
    "    disabled=False,\n",
    ")\n",
    "\n",
    "# Widgets to select and organize shapefiles\n",
    "available_list = widgets.SelectMultiple(\n",
    "    options=shapefiles,\n",
    "    description='Available Shapefiles:',\n",
    "    disabled=False,\n",
    "    rows=10,\n",
    ")\n",
    "\n",
    "selected_list = widgets.SelectMultiple(\n",
    "    options=[],\n",
    "    description='Selected Shapefiles:',\n",
    "    disabled=False,\n",
    "    rows=10,\n",
    ")\n",
    "\n",
    "# Buttons for adding/removing shapefiles\n",
    "add_button = widgets.Button(description=\"Add →\")\n",
    "remove_button = widgets.Button(description=\"← Remove\")\n",
    "up_button = widgets.Button(description=\"↑ Move Up\")\n",
    "down_button = widgets.Button(description=\"↓ Move Down\")\n",
    "\n",
    "# Button to plot the map\n",
    "plot_button = widgets.Button(description=\"Plot Map\")\n",
    "\n",
    "# Output widget for the dynamic map\n",
    "output = widgets.Output()\n",
    "\n",
    "# Function to add shapefiles to the selected list\n",
    "def add_shapefiles(b):\n",
    "    current_selected = list(selected_list.options)\n",
    "    new_selected = list(available_list.value)\n",
    "    selected_list.options = current_selected + new_selected\n",
    "\n",
    "# Function to remove shapefiles from the selected list\n",
    "def remove_shapefiles(b):\n",
    "    current_selected = list(selected_list.options)\n",
    "    to_remove = list(selected_list.value)\n",
    "    selected_list.options = [f for f in current_selected if f not in to_remove]\n",
    "\n",
    "# Function to move shapefiles up in the selected list\n",
    "def move_up(b):\n",
    "    current_selected = list(selected_list.options)\n",
    "    selected_items = list(selected_list.value)\n",
    "    \n",
    "    for item in selected_items:\n",
    "        idx = current_selected.index(item)\n",
    "        if idx > 0:\n",
    "            current_selected[idx], current_selected[idx - 1] = current_selected[idx - 1], current_selected[idx]\n",
    "    \n",
    "    selected_list.options = current_selected\n",
    "\n",
    "# Function to move shapefiles down in the selected list\n",
    "def move_down(b):\n",
    "    current_selected = list(selected_list.options)\n",
    "    selected_items = list(selected_list.value)\n",
    "    \n",
    "    for item in reversed(selected_items):\n",
    "        idx = current_selected.index(item)\n",
    "        if idx < len(current_selected) - 1:\n",
    "            current_selected[idx], current_selected[idx + 1] = current_selected[idx + 1], current_selected[idx]\n",
    "    \n",
    "    selected_list.options = current_selected\n",
    "\n",
    "# Function to plot the selected shapefiles on the selected base map\n",
    "def plot_dynamic_map(b):\n",
    "    with output:\n",
    "        clear_output(wait=True)\n",
    "        \n",
    "        # Get selected base map and shapefiles\n",
    "        selected_base_map_key = base_map_dropdown.value\n",
    "        selected_base_map, attribution = base_maps[selected_base_map_key]\n",
    "        selected_shapefiles = selected_list.options\n",
    "        \n",
    "        # Initialize folium map with the selected base map and attribution\n",
    "        m = folium.Map(location=[0, 0], zoom_start=2, tiles=selected_base_map, attr=attribution)\n",
    "        \n",
    "        # Iterate through selected shapefiles and add them to the folium map\n",
    "        for selected_shapefile in selected_shapefiles:\n",
    "            shapefile_path = os.path.join(folder_path, selected_shapefile)\n",
    "            \n",
    "            # Load the shapefile\n",
    "            gdf = gpd.read_file(shapefile_path)\n",
    "            \n",
    "            # Convert the GeoDataFrame to GeoJSON and add it to the map\n",
    "            folium.GeoJson(gdf).add_to(m)\n",
    "        \n",
    "        # Display the dynamic map with layer controls\n",
    "        LayerControl().add_to(m)\n",
    "        \n",
    "        # Render the map\n",
    "        display(m)\n",
    "\n",
    "# Link buttons to their respective functions\n",
    "add_button.on_click(add_shapefiles)\n",
    "remove_button.on_click(remove_shapefiles)\n",
    "up_button.on_click(move_up)\n",
    "down_button.on_click(move_down)\n",
    "plot_button.on_click(plot_dynamic_map)\n",
    "\n",
    "# Layout for controls\n",
    "controls = widgets.HBox([\n",
    "    widgets.VBox([available_list, add_button, remove_button, up_button, down_button]),\n",
    "    selected_list,\n",
    "    base_map_dropdown\n",
    "])\n",
    "\n",
    "# Display the widgets and the output\n",
    "display(controls)\n",
    "display(plot_button)\n",
    "display(output)\n"
   ]
  },
  {
   "cell_type": "code",
   "execution_count": 38,
   "id": "d4d56cb3-882f-444f-806f-b049e5f649f1",
   "metadata": {
    "scrolled": true
   },
   "outputs": [
    {
     "data": {
      "application/vnd.jupyter.widget-view+json": {
       "model_id": "6f8fbb74373d445e88e59d42ae3b012b",
       "version_major": 2,
       "version_minor": 0
      },
      "text/plain": [
       "HBox(children=(VBox(children=(SelectMultiple(description='Available Shapefiles:', options=('admin_0_countries.…"
      ]
     },
     "metadata": {},
     "output_type": "display_data"
    },
    {
     "data": {
      "application/vnd.jupyter.widget-view+json": {
       "model_id": "05421ce68c53482b93715500f842659a",
       "version_major": 2,
       "version_minor": 0
      },
      "text/plain": [
       "Button(description='Plot Map', style=ButtonStyle())"
      ]
     },
     "metadata": {},
     "output_type": "display_data"
    },
    {
     "data": {
      "application/vnd.jupyter.widget-view+json": {
       "model_id": "c92de4e4a8e94885949a8484e456b59e",
       "version_major": 2,
       "version_minor": 0
      },
      "text/plain": [
       "Output()"
      ]
     },
     "metadata": {},
     "output_type": "display_data"
    }
   ],
   "source": [
    "import os\n",
    "import geopandas as gpd\n",
    "import folium\n",
    "from folium import LayerControl\n",
    "import ipywidgets as widgets\n",
    "from IPython.display import display, clear_output\n",
    "\n",
    "# Define the directory path for shapefiles\n",
    "folder_path = 'Dataset/world_10m_cultural/10m_cultural'\n",
    "\n",
    "# List shapefiles in the directory\n",
    "shapefiles = [file for file in os.listdir(folder_path) if file.endswith('.shp')]\n",
    "\n",
    "# Base map options with attribution\n",
    "base_maps = {\n",
    "    'OpenStreetMap': ('OpenStreetMap', '© OpenStreetMap contributors'),\n",
    "    'Stamen Terrain': ('Stamen Terrain', 'Map tiles by Stamen Design, CC BY 3.0 — Map data © OpenStreetMap contributors'),\n",
    "    'Stamen Toner': ('Stamen Toner', 'Map tiles by Stamen Design, CC BY 3.0 — Map data © OpenStreetMap contributors'),\n",
    "    'Stamen Watercolor': ('Stamen Watercolor', 'Map tiles by Stamen Design, CC BY 3.0 — Map data © OpenStreetMap contributors'),\n",
    "    'CartoDB Positron': ('CartoDB Positron', '© OpenStreetMap contributors & CartoDB'),\n",
    "    'CartoDB Dark Matter': ('CartoDB Dark Matter', '© OpenStreetMap contributors & CartoDB'),\n",
    "}\n",
    "\n",
    "# Dropdown for base map selection\n",
    "base_map_dropdown = widgets.Dropdown(\n",
    "    options=list(base_maps.keys()),\n",
    "    description='Base Map:',\n",
    "    disabled=False,\n",
    ")\n",
    "\n",
    "# Widgets to select and organize shapefiles\n",
    "available_list = widgets.SelectMultiple(\n",
    "    options=shapefiles,\n",
    "    description='Available Shapefiles:',\n",
    "    disabled=False,\n",
    "    rows=10,\n",
    ")\n",
    "\n",
    "selected_list = widgets.SelectMultiple(\n",
    "    options=[],\n",
    "    description='Selected Shapefiles:',\n",
    "    disabled=False,\n",
    "    rows=10,\n",
    ")\n",
    "\n",
    "# Buttons for adding/removing shapefiles\n",
    "add_button = widgets.Button(description=\"Add →\")\n",
    "remove_button = widgets.Button(description=\"← Remove\")\n",
    "up_button = widgets.Button(description=\"↑ Move Up\")\n",
    "down_button = widgets.Button(description=\"↓ Move Down\")\n",
    "\n",
    "# Button to plot the map\n",
    "plot_button = widgets.Button(description=\"Plot Map\")\n",
    "\n",
    "# Output widget for the dynamic map\n",
    "output = widgets.Output()\n",
    "\n",
    "# Function to add shapefiles to the selected list\n",
    "def add_shapefiles(b):\n",
    "    current_selected = list(selected_list.options)\n",
    "    new_selected = list(available_list.value)\n",
    "    selected_list.options = current_selected + new_selected\n",
    "\n",
    "# Function to remove shapefiles from the selected list\n",
    "def remove_shapefiles(b):\n",
    "    current_selected = list(selected_list.options)\n",
    "    to_remove = list(selected_list.value)\n",
    "    selected_list.options = [f for f in current_selected if f not in to_remove]\n",
    "\n",
    "# Function to move shapefiles up in the selected list\n",
    "def move_up(b):\n",
    "    current_selected = list(selected_list.options)\n",
    "    selected_items = list(selected_list.value)\n",
    "    \n",
    "    for item in selected_items:\n",
    "        idx = current_selected.index(item)\n",
    "        if idx > 0:\n",
    "            current_selected[idx], current_selected[idx - 1] = current_selected[idx - 1], current_selected[idx]\n",
    "    \n",
    "    selected_list.options = current_selected\n",
    "\n",
    "# Function to move shapefiles down in the selected list\n",
    "def move_down(b):\n",
    "    current_selected = list(selected_list.options)\n",
    "    selected_items = list(selected_list.value)\n",
    "    \n",
    "    for item in reversed(selected_items):\n",
    "        idx = current_selected.index(item)\n",
    "        if idx < len(current_selected) - 1:\n",
    "            current_selected[idx], current_selected[idx + 1] = current_selected[idx + 1], current_selected[idx]\n",
    "    \n",
    "    selected_list.options = current_selected\n",
    "\n",
    "# Function to plot the selected shapefiles on the selected base map\n",
    "def plot_dynamic_map(b):\n",
    "    with output:\n",
    "        clear_output(wait=True)\n",
    "        \n",
    "        # Get selected base map and shapefiles\n",
    "        selected_base_map_key = base_map_dropdown.value\n",
    "        selected_base_map, attribution = base_maps[selected_base_map_key]\n",
    "        selected_shapefiles = selected_list.options\n",
    "        \n",
    "        # Initialize folium map with the selected base map and attribution\n",
    "        m = folium.Map(location=[0, 0], zoom_start=2, tiles=selected_base_map, attr=attribution)\n",
    "        \n",
    "        # Iterate through selected shapefiles and add them to the folium map\n",
    "        for selected_shapefile in selected_shapefiles:\n",
    "            shapefile_path = os.path.join(folder_path, selected_shapefile)\n",
    "            \n",
    "            # Load the shapefile\n",
    "            gdf = gpd.read_file(shapefile_path)\n",
    "            \n",
    "            # Check if the GeoDataFrame has a CRS\n",
    "            if gdf.crs is None:\n",
    "                # If no CRS, set it to EPSG:4326 (default for folium)\n",
    "                gdf.set_crs(\"EPSG:4326\", inplace=True)\n",
    "            else:\n",
    "                # If it has a CRS, transform it to EPSG:4326\n",
    "                gdf = gdf.to_crs(\"EPSG:4326\")\n",
    "            \n",
    "            # Convert the GeoDataFrame to GeoJSON and add it to the map\n",
    "            folium.GeoJson(gdf).add_to(m)\n",
    "        \n",
    "        # Display the dynamic map with layer controls\n",
    "        LayerControl().add_to(m)\n",
    "        \n",
    "        # Render the map\n",
    "        display(m)\n",
    "\n",
    "# Link buttons to their respective functions\n",
    "add_button.on_click(add_shapefiles)\n",
    "remove_button.on_click(remove_shapefiles)\n",
    "up_button.on_click(move_up)\n",
    "down_button.on_click(move_down)\n",
    "plot_button.on_click(plot_dynamic_map)\n",
    "\n",
    "# Layout for controls\n",
    "controls = widgets.HBox([\n",
    "    widgets.VBox([available_list, add_button, remove_button, up_button, down_button]),\n",
    "    selected_list,\n",
    "    base_map_dropdown\n",
    "])\n",
    "\n",
    "# Display the widgets and the output\n",
    "display(controls)\n",
    "display(plot_button)\n",
    "display(output)\n"
   ]
  },
  {
   "cell_type": "code",
   "execution_count": null,
   "id": "4976b8b4-0c19-4608-86a6-dd8625b276c0",
   "metadata": {},
   "outputs": [],
   "source": []
  }
 ],
 "metadata": {
  "kernelspec": {
   "display_name": "Python 3 (ipykernel)",
   "language": "python",
   "name": "python3"
  },
  "language_info": {
   "codemirror_mode": {
    "name": "ipython",
    "version": 3
   },
   "file_extension": ".py",
   "mimetype": "text/x-python",
   "name": "python",
   "nbconvert_exporter": "python",
   "pygments_lexer": "ipython3",
   "version": "3.12.4"
  }
 },
 "nbformat": 4,
 "nbformat_minor": 5
}
